{
 "cells": [
  {
   "cell_type": "code",
   "execution_count": 12,
   "metadata": {},
   "outputs": [],
   "source": [
    "import pandas as pd\n",
    "import json\n",
    "import chardet"
   ]
  },
  {
   "cell_type": "code",
   "execution_count": 13,
   "metadata": {},
   "outputs": [],
   "source": [
    "with open (\"../db.json\", \"r\") as file:\n",
    "    data = json.load(file)"
   ]
  },
  {
   "cell_type": "code",
   "execution_count": 14,
   "metadata": {},
   "outputs": [
    {
     "name": "stdout",
     "output_type": "stream",
     "text": [
      "La clé results n'éxiste pas\n"
     ]
    }
   ],
   "source": [
    "if \"results\" in data:\n",
    "    if \"properties\" in \"results\":\n",
    "        results_data = data[\"results\"]\n",
    "        df = pd.DataFrame(results_data)\n",
    "        print(df)\n",
    "    else:\n",
    "        print(\"La clé results n'éxiste pas\")\n",
    "else:\n",
    "    print(\"jfjf\")"
   ]
  },
  {
   "cell_type": "code",
   "execution_count": 15,
   "metadata": {},
   "outputs": [
    {
     "data": {
      "text/html": [
       "<div>\n",
       "<style scoped>\n",
       "    .dataframe tbody tr th:only-of-type {\n",
       "        vertical-align: middle;\n",
       "    }\n",
       "\n",
       "    .dataframe tbody tr th {\n",
       "        vertical-align: top;\n",
       "    }\n",
       "\n",
       "    .dataframe thead th {\n",
       "        text-align: right;\n",
       "    }\n",
       "</style>\n",
       "<table border=\"1\" class=\"dataframe\">\n",
       "  <thead>\n",
       "    <tr style=\"text-align: right;\">\n",
       "      <th></th>\n",
       "      <th>object</th>\n",
       "      <th>id</th>\n",
       "      <th>created_time</th>\n",
       "      <th>last_edited_time</th>\n",
       "      <th>created_by</th>\n",
       "      <th>last_edited_by</th>\n",
       "      <th>cover</th>\n",
       "      <th>icon</th>\n",
       "      <th>parent</th>\n",
       "      <th>archived</th>\n",
       "      <th>in_trash</th>\n",
       "      <th>properties</th>\n",
       "      <th>url</th>\n",
       "      <th>public_url</th>\n",
       "    </tr>\n",
       "  </thead>\n",
       "  <tbody>\n",
       "    <tr>\n",
       "      <th>0</th>\n",
       "      <td>page</td>\n",
       "      <td>08d4fe34-f981-4da2-a448-a4c45129bc46</td>\n",
       "      <td>2024-11-16T16:39:00.000Z</td>\n",
       "      <td>2024-11-16T17:37:00.000Z</td>\n",
       "      <td>{'object': 'user', 'id': 'f598d7cd-baaa-4698-9...</td>\n",
       "      <td>{'object': 'user', 'id': 'f598d7cd-baaa-4698-9...</td>\n",
       "      <td>None</td>\n",
       "      <td>None</td>\n",
       "      <td>{'type': 'database_id', 'database_id': '140430...</td>\n",
       "      <td>False</td>\n",
       "      <td>False</td>\n",
       "      <td>{'Date': {'id': 'Aa%3Dn', 'type': 'date', 'dat...</td>\n",
       "      <td>https://www.notion.so/Mim-08d4fe34f9814da2a448...</td>\n",
       "      <td>None</td>\n",
       "    </tr>\n",
       "    <tr>\n",
       "      <th>1</th>\n",
       "      <td>page</td>\n",
       "      <td>1e51516c-f862-4312-bc54-5e0d2f9500f3</td>\n",
       "      <td>2024-11-16T16:39:00.000Z</td>\n",
       "      <td>2024-11-16T17:37:00.000Z</td>\n",
       "      <td>{'object': 'user', 'id': 'f598d7cd-baaa-4698-9...</td>\n",
       "      <td>{'object': 'user', 'id': 'f598d7cd-baaa-4698-9...</td>\n",
       "      <td>None</td>\n",
       "      <td>None</td>\n",
       "      <td>{'type': 'database_id', 'database_id': '140430...</td>\n",
       "      <td>False</td>\n",
       "      <td>False</td>\n",
       "      <td>{'Date': {'id': 'Aa%3Dn', 'type': 'date', 'dat...</td>\n",
       "      <td>https://www.notion.so/Lam-1e51516cf8624312bc54...</td>\n",
       "      <td>None</td>\n",
       "    </tr>\n",
       "    <tr>\n",
       "      <th>2</th>\n",
       "      <td>page</td>\n",
       "      <td>e3c0221c-98e6-40f6-8f10-25e44d5365e5</td>\n",
       "      <td>2024-11-16T16:39:00.000Z</td>\n",
       "      <td>2024-11-16T17:37:00.000Z</td>\n",
       "      <td>{'object': 'user', 'id': 'f598d7cd-baaa-4698-9...</td>\n",
       "      <td>{'object': 'user', 'id': 'f598d7cd-baaa-4698-9...</td>\n",
       "      <td>None</td>\n",
       "      <td>None</td>\n",
       "      <td>{'type': 'database_id', 'database_id': '140430...</td>\n",
       "      <td>False</td>\n",
       "      <td>False</td>\n",
       "      <td>{'Date': {'id': 'Aa%3Dn', 'type': 'date', 'dat...</td>\n",
       "      <td>https://www.notion.so/Alif-e3c0221c98e640f68f1...</td>\n",
       "      <td>None</td>\n",
       "    </tr>\n",
       "  </tbody>\n",
       "</table>\n",
       "</div>"
      ],
      "text/plain": [
       "  object                                    id              created_time  \\\n",
       "0   page  08d4fe34-f981-4da2-a448-a4c45129bc46  2024-11-16T16:39:00.000Z   \n",
       "1   page  1e51516c-f862-4312-bc54-5e0d2f9500f3  2024-11-16T16:39:00.000Z   \n",
       "2   page  e3c0221c-98e6-40f6-8f10-25e44d5365e5  2024-11-16T16:39:00.000Z   \n",
       "\n",
       "           last_edited_time  \\\n",
       "0  2024-11-16T17:37:00.000Z   \n",
       "1  2024-11-16T17:37:00.000Z   \n",
       "2  2024-11-16T17:37:00.000Z   \n",
       "\n",
       "                                          created_by  \\\n",
       "0  {'object': 'user', 'id': 'f598d7cd-baaa-4698-9...   \n",
       "1  {'object': 'user', 'id': 'f598d7cd-baaa-4698-9...   \n",
       "2  {'object': 'user', 'id': 'f598d7cd-baaa-4698-9...   \n",
       "\n",
       "                                      last_edited_by cover  icon  \\\n",
       "0  {'object': 'user', 'id': 'f598d7cd-baaa-4698-9...  None  None   \n",
       "1  {'object': 'user', 'id': 'f598d7cd-baaa-4698-9...  None  None   \n",
       "2  {'object': 'user', 'id': 'f598d7cd-baaa-4698-9...  None  None   \n",
       "\n",
       "                                              parent  archived  in_trash  \\\n",
       "0  {'type': 'database_id', 'database_id': '140430...     False     False   \n",
       "1  {'type': 'database_id', 'database_id': '140430...     False     False   \n",
       "2  {'type': 'database_id', 'database_id': '140430...     False     False   \n",
       "\n",
       "                                          properties  \\\n",
       "0  {'Date': {'id': 'Aa%3Dn', 'type': 'date', 'dat...   \n",
       "1  {'Date': {'id': 'Aa%3Dn', 'type': 'date', 'dat...   \n",
       "2  {'Date': {'id': 'Aa%3Dn', 'type': 'date', 'dat...   \n",
       "\n",
       "                                                 url public_url  \n",
       "0  https://www.notion.so/Mim-08d4fe34f9814da2a448...       None  \n",
       "1  https://www.notion.so/Lam-1e51516cf8624312bc54...       None  \n",
       "2  https://www.notion.so/Alif-e3c0221c98e640f68f1...       None  "
      ]
     },
     "execution_count": 15,
     "metadata": {},
     "output_type": "execute_result"
    }
   ],
   "source": [
    "df"
   ]
  }
 ],
 "metadata": {
  "kernelspec": {
   "display_name": ".venv",
   "language": "python",
   "name": "python3"
  },
  "language_info": {
   "codemirror_mode": {
    "name": "ipython",
    "version": 3
   },
   "file_extension": ".py",
   "mimetype": "text/x-python",
   "name": "python",
   "nbconvert_exporter": "python",
   "pygments_lexer": "ipython3",
   "version": "3.13.0"
  }
 },
 "nbformat": 4,
 "nbformat_minor": 2
}
